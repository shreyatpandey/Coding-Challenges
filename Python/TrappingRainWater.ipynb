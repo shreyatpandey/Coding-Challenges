{
 "cells": [
  {
   "cell_type": "code",
   "execution_count": 4,
   "metadata": {},
   "outputs": [],
   "source": [
    "class Solution:\n",
    "    def trap(self,height):\n",
    "            left, right = 0, len(height)-1 # these pointers are traversal of list/array <-->indexing\n",
    "            left_wall, right_wall = 0,0 ;  # these pointer <=> need to learn more about this usage\n",
    "            water = 0\n",
    "\n",
    "            while left < right:\n",
    "                if height[left] < height[right] :\n",
    "                    if height[left] > left_wall:\n",
    "                        left_wall = height[left]\n",
    "                    else:\n",
    "                        water += left_wall - height[left]\n",
    "                    left += 1\n",
    "                else:\n",
    "                    if height[right]>right_wall: \n",
    "                        right_wall = height[right]\n",
    "                    else : \n",
    "                        water += right_wall - height[right]\n",
    "                    right -=1\n",
    "\n",
    "            return water\n",
    "    "
   ]
  },
  {
   "cell_type": "code",
   "execution_count": 8,
   "metadata": {},
   "outputs": [],
   "source": [
    "height = [0,1,0,2,1,0,1,3,2,1,2,1]\n",
    "s=Solution()\n",
    "result = s.trap(height)"
   ]
  },
  {
   "cell_type": "code",
   "execution_count": null,
   "metadata": {},
   "outputs": [],
   "source": []
  }
 ],
 "metadata": {
  "kernelspec": {
   "display_name": "Python 3",
   "language": "python",
   "name": "python3"
  },
  "language_info": {
   "codemirror_mode": {
    "name": "ipython",
    "version": 3
   },
   "file_extension": ".py",
   "mimetype": "text/x-python",
   "name": "python",
   "nbconvert_exporter": "python",
   "pygments_lexer": "ipython3",
   "version": "3.7.6"
  }
 },
 "nbformat": 4,
 "nbformat_minor": 4
}
